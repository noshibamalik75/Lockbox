{
 "cells": [
  {
   "cell_type": "code",
   "execution_count": 1,
   "metadata": {},
   "outputs": [
    {
     "name": "stdout",
     "output_type": "stream",
     "text": [
      "16-byte AES key: deb2191f2d82fe5c4c34265bc18720ab\n",
      "24-byte AES key: 9f71f099d12ebe454f1c31a5a1eee4fc7722638375823066\n",
      "32-byte AES key: 5759cb4da87f7df25a82e6178fe3ec1a031982832a3da6b653d5ac693dc90bc3\n"
     ]
    }
   ],
   "source": [
    "from os import urandom\n",
    "\n",
    "def generate_random_aes_key(key_size):\n",
    "  \"\"\"\n",
    "  Generates a random AES key of the specified size (16, 24, or 32 bytes).\n",
    "\n",
    "  Args:\n",
    "      key_size: The desired length of the key in bytes (16, 24, or 32).\n",
    "\n",
    "  Returns:\n",
    "      A byte string containing the random AES key.\n",
    "\n",
    "  Raises:\n",
    "      ValueError: If the key size is not 16, 24, or 32 bytes.\n",
    "  \"\"\"\n",
    "\n",
    "  if key_size not in (16, 24, 32):\n",
    "    raise ValueError(\"Invalid key size. AES key size must be 16, 24, or 32 bytes.\")\n",
    "\n",
    "  return urandom(key_size)\n",
    "\n",
    "# Example usage:\n",
    "key_16_bytes = generate_random_aes_key(16)\n",
    "key_24_bytes = generate_random_aes_key(24)\n",
    "key_32_bytes = generate_random_aes_key(32)\n",
    "\n",
    "print(f\"16-byte AES key: {key_16_bytes.hex()}\")\n",
    "print(f\"24-byte AES key: {key_24_bytes.hex()}\")\n",
    "print(f\"32-byte AES key: {key_32_bytes.hex()}\")"
   ]
  }
 ],
 "metadata": {
  "kernelspec": {
   "display_name": "Python 3",
   "language": "python",
   "name": "python3"
  },
  "language_info": {
   "codemirror_mode": {
    "name": "ipython",
    "version": 3
   },
   "file_extension": ".py",
   "mimetype": "text/x-python",
   "name": "python",
   "nbconvert_exporter": "python",
   "pygments_lexer": "ipython3",
   "version": "3.11.4"
  }
 },
 "nbformat": 4,
 "nbformat_minor": 2
}
